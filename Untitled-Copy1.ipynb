{
 "cells": [
  {
   "cell_type": "code",
   "execution_count": null,
   "id": "b8da3117-4fa6-495f-966b-04c3d8473adf",
   "metadata": {},
   "outputs": [
    {
     "name": "stdout",
     "output_type": "stream",
     "text": [
      "Dataloader\n",
      "51901 ../dataset/FFHQ\n",
      "tot_batch 51901\n",
      "  0%|                                 | 1/10380201 [00:00<2578:12:12,  1.12it/s]100 ../dataset/FFHQtest\n",
      "  0%|                              | 1001/10380201 [06:19<1201:10:49,  2.40it/s]100 ../dataset/FFHQtest\n",
      "  0%|                               | 1066/10380201 [06:54<687:43:58,  4.19it/s]"
     ]
    }
   ],
   "source": [
    "!python main2june.py --epoch 200 --lr 0.0002 --batch-size 1 --name dataRestormerface --data-dir ../dataset/FFHQ --test-dir ../dataset/FFHQtest"
   ]
  },
  {
   "cell_type": "code",
   "execution_count": 12,
   "id": "9a891c95-6683-4088-844c-c5f123719fba",
   "metadata": {},
   "outputs": [
    {
     "name": "stdout",
     "output_type": "stream",
     "text": [
      "Requirement already satisfied: numpy in /home/cvbl-mj/anaconda3/envs/trans/lib/python3.6/site-packages (1.18.5)\n"
     ]
    }
   ],
   "source": [
    "!pip install numpy"
   ]
  },
  {
   "cell_type": "code",
   "execution_count": 152,
   "id": "d57ae96a-6c88-4185-bef4-f7f8f176ae1f",
   "metadata": {},
   "outputs": [
    {
     "name": "stdout",
     "output_type": "stream",
     "text": [
      "5 ../dataset/Set5\n",
      "  0%|                                                     | 0/5 [00:00<?, ?it/s]/home/oem/anaconda3/envs/trans/lib/python3.6/site-packages/torch/nn/functional.py:3680: UserWarning: The default behavior for interpolate/upsample with float scale_factor changed in 1.6.0 to align with other frameworks/libraries, and now uses scale_factor directly, instead of relying on the computed output size. If you wish to restore the old behavior, please set recompute_scale_factor=True. See the documentation of nn.Upsample for details. \n",
      "  \"The default behavior for interpolate/upsample with float scale_factor changed \"\n",
      "100%|█████████████████████████████████████████████| 5/5 [00:04<00:00,  1.08it/s]\n",
      "psnrx2,ssimx2,psnr4,ssim4 49.83236710908308 0.9918826419733451 40.510240414615126 0.961728657492834 0.8755384927667069\n",
      "14 ../dataset/Set14\n",
      "100%|███████████████████████████████████████████| 14/14 [00:10<00:00,  1.38it/s]\n",
      "psnrx2,ssimx2,psnr4,ssim4 40.6892039809995 0.9575794371490703 33.7795606523369 0.8702451472261099 0.804986242223035\n",
      "100 ../dataset/BSD100\n",
      "100%|█████████████████████████████████████████| 100/100 [01:12<00:00,  1.39it/s]\n",
      "psnrx2,ssimx2,psnr4,ssim4 41.621527353420745 0.9684310380120837 34.62116531337611 0.8748164798736068 0.848936090486498\n"
     ]
    }
   ],
   "source": [
    "%matplotlib inline \n",
    "!python testx4.py --batch-size 1  --img_size 512 --weight 'PTSR31AUG+bicubic+s5+newdiffloss2+nonorm+x4' --gpuid 1"
   ]
  },
  {
   "cell_type": "code",
   "execution_count": 154,
   "id": "8b665351-0567-4ff1-b77a-3d175fd23c58",
   "metadata": {},
   "outputs": [
    {
     "name": "stdout",
     "output_type": "stream",
     "text": [
      "5 ../dataset/Set5\n",
      "  0%|                                                     | 0/5 [00:00<?, ?it/s]/home/oem/anaconda3/envs/trans/lib/python3.6/site-packages/torch/nn/functional.py:3680: UserWarning: The default behavior for interpolate/upsample with float scale_factor changed in 1.6.0 to align with other frameworks/libraries, and now uses scale_factor directly, instead of relying on the computed output size. If you wish to restore the old behavior, please set recompute_scale_factor=True. See the documentation of nn.Upsample for details. \n",
      "  \"The default behavior for interpolate/upsample with float scale_factor changed \"\n",
      " 40%|██████████████████                           | 2/5 [00:01<00:02,  1.34it/s]Clipping input data to the valid range for imshow with RGB data ([0..1] for floats or [0..255] for integers).\n",
      " 60%|███████████████████████████                  | 3/5 [00:02<00:01,  1.77it/s]Clipping input data to the valid range for imshow with RGB data ([0..1] for floats or [0..255] for integers).\n",
      " 80%|████████████████████████████████████         | 4/5 [00:02<00:00,  2.05it/s]Clipping input data to the valid range for imshow with RGB data ([0..1] for floats or [0..255] for integers).\n",
      "100%|█████████████████████████████████████████████| 5/5 [00:02<00:00,  1.82it/s]\n",
      "14 ../dataset/Set14\n",
      "  0%|                                                    | 0/14 [00:00<?, ?it/s]Clipping input data to the valid range for imshow with RGB data ([0..1] for floats or [0..255] for integers).\n",
      " 14%|██████▎                                     | 2/14 [00:00<00:05,  2.26it/s]Clipping input data to the valid range for imshow with RGB data ([0..1] for floats or [0..255] for integers).\n",
      " 29%|████████████▌                               | 4/14 [00:01<00:03,  2.51it/s]Clipping input data to the valid range for imshow with RGB data ([0..1] for floats or [0..255] for integers).\n",
      " 36%|███████████████▋                            | 5/14 [00:02<00:03,  2.54it/s]Clipping input data to the valid range for imshow with RGB data ([0..1] for floats or [0..255] for integers).\n",
      " 64%|████████████████████████████▎               | 9/14 [00:03<00:02,  2.45it/s]Clipping input data to the valid range for imshow with RGB data ([0..1] for floats or [0..255] for integers).\n",
      " 71%|██████████████████████████████▋            | 10/14 [00:03<00:01,  2.57it/s]Clipping input data to the valid range for imshow with RGB data ([0..1] for floats or [0..255] for integers).\n",
      " 79%|█████████████████████████████████▊         | 11/14 [00:04<00:01,  2.61it/s]Clipping input data to the valid range for imshow with RGB data ([0..1] for floats or [0..255] for integers).\n",
      " 93%|███████████████████████████████████████▉   | 13/14 [00:05<00:00,  2.71it/s]Clipping input data to the valid range for imshow with RGB data ([0..1] for floats or [0..255] for integers).\n",
      "100%|███████████████████████████████████████████| 14/14 [00:05<00:00,  2.57it/s]\n",
      "100 ../dataset/BSD100\n",
      "  0%|                                                   | 0/100 [00:00<?, ?it/s]Clipping input data to the valid range for imshow with RGB data ([0..1] for floats or [0..255] for integers).\n",
      "  1%|▍                                          | 1/100 [00:00<00:47,  2.09it/s]Clipping input data to the valid range for imshow with RGB data ([0..1] for floats or [0..255] for integers).\n",
      "  2%|▊                                          | 2/100 [00:00<00:41,  2.36it/s]Clipping input data to the valid range for imshow with RGB data ([0..1] for floats or [0..255] for integers).\n",
      "  3%|█▎                                         | 3/100 [00:01<00:42,  2.29it/s]Clipping input data to the valid range for imshow with RGB data ([0..1] for floats or [0..255] for integers).\n",
      "  4%|█▋                                         | 4/100 [00:01<00:38,  2.46it/s]Clipping input data to the valid range for imshow with RGB data ([0..1] for floats or [0..255] for integers).\n",
      "  5%|██▏                                        | 5/100 [00:02<00:37,  2.51it/s]Clipping input data to the valid range for imshow with RGB data ([0..1] for floats or [0..255] for integers).\n",
      "  6%|██▌                                        | 6/100 [00:02<00:37,  2.52it/s]Clipping input data to the valid range for imshow with RGB data ([0..1] for floats or [0..255] for integers).\n",
      "  7%|███                                        | 7/100 [00:02<00:35,  2.62it/s]Clipping input data to the valid range for imshow with RGB data ([0..1] for floats or [0..255] for integers).\n",
      "  8%|███▍                                       | 8/100 [00:03<00:34,  2.68it/s]Clipping input data to the valid range for imshow with RGB data ([0..1] for floats or [0..255] for integers).\n",
      "  9%|███▊                                       | 9/100 [00:03<00:34,  2.67it/s]Clipping input data to the valid range for imshow with RGB data ([0..1] for floats or [0..255] for integers).\n",
      " 10%|████▏                                     | 10/100 [00:03<00:33,  2.68it/s]Clipping input data to the valid range for imshow with RGB data ([0..1] for floats or [0..255] for integers).\n",
      " 11%|████▌                                     | 11/100 [00:04<00:35,  2.53it/s]Clipping input data to the valid range for imshow with RGB data ([0..1] for floats or [0..255] for integers).\n",
      " 12%|█████                                     | 12/100 [00:04<00:34,  2.59it/s]Clipping input data to the valid range for imshow with RGB data ([0..1] for floats or [0..255] for integers).\n",
      " 13%|█████▍                                    | 13/100 [00:05<00:32,  2.64it/s]Clipping input data to the valid range for imshow with RGB data ([0..1] for floats or [0..255] for integers).\n",
      " 14%|█████▉                                    | 14/100 [00:05<00:32,  2.65it/s]Clipping input data to the valid range for imshow with RGB data ([0..1] for floats or [0..255] for integers).\n",
      " 15%|██████▎                                   | 15/100 [00:05<00:32,  2.62it/s]Clipping input data to the valid range for imshow with RGB data ([0..1] for floats or [0..255] for integers).\n",
      " 16%|██████▋                                   | 16/100 [00:06<00:31,  2.68it/s]Clipping input data to the valid range for imshow with RGB data ([0..1] for floats or [0..255] for integers).\n",
      " 17%|███████▏                                  | 17/100 [00:06<00:31,  2.68it/s]Clipping input data to the valid range for imshow with RGB data ([0..1] for floats or [0..255] for integers).\n",
      " 18%|███████▌                                  | 18/100 [00:06<00:30,  2.67it/s]Clipping input data to the valid range for imshow with RGB data ([0..1] for floats or [0..255] for integers).\n",
      " 19%|███████▉                                  | 19/100 [00:07<00:32,  2.51it/s]Clipping input data to the valid range for imshow with RGB data ([0..1] for floats or [0..255] for integers).\n",
      " 20%|████████▍                                 | 20/100 [00:07<00:30,  2.61it/s]Clipping input data to the valid range for imshow with RGB data ([0..1] for floats or [0..255] for integers).\n",
      " 22%|█████████▏                                | 22/100 [00:08<00:29,  2.62it/s]Clipping input data to the valid range for imshow with RGB data ([0..1] for floats or [0..255] for integers).\n",
      " 23%|█████████▋                                | 23/100 [00:08<00:29,  2.63it/s]Clipping input data to the valid range for imshow with RGB data ([0..1] for floats or [0..255] for integers).\n",
      " 24%|██████████                                | 24/100 [00:09<00:29,  2.62it/s]Clipping input data to the valid range for imshow with RGB data ([0..1] for floats or [0..255] for integers).\n",
      " 25%|██████████▌                               | 25/100 [00:09<00:27,  2.70it/s]Clipping input data to the valid range for imshow with RGB data ([0..1] for floats or [0..255] for integers).\n",
      " 26%|██████████▉                               | 26/100 [00:09<00:27,  2.73it/s]Clipping input data to the valid range for imshow with RGB data ([0..1] for floats or [0..255] for integers).\n",
      " 27%|███████████▎                              | 27/100 [00:10<00:28,  2.53it/s]Clipping input data to the valid range for imshow with RGB data ([0..1] for floats or [0..255] for integers).\n",
      " 28%|███████████▊                              | 28/100 [00:10<00:27,  2.63it/s]Clipping input data to the valid range for imshow with RGB data ([0..1] for floats or [0..255] for integers).\n",
      " 29%|████████████▏                             | 29/100 [00:11<00:26,  2.72it/s]Clipping input data to the valid range for imshow with RGB data ([0..1] for floats or [0..255] for integers).\n",
      " 30%|████████████▌                             | 30/100 [00:11<00:26,  2.69it/s]Clipping input data to the valid range for imshow with RGB data ([0..1] for floats or [0..255] for integers).\n",
      " 32%|█████████████▍                            | 32/100 [00:12<00:25,  2.67it/s]Clipping input data to the valid range for imshow with RGB data ([0..1] for floats or [0..255] for integers).\n",
      " 33%|█████████████▊                            | 33/100 [00:12<00:24,  2.69it/s]Clipping input data to the valid range for imshow with RGB data ([0..1] for floats or [0..255] for integers).\n",
      " 34%|██████████████▎                           | 34/100 [00:13<00:25,  2.61it/s]Clipping input data to the valid range for imshow with RGB data ([0..1] for floats or [0..255] for integers).\n",
      " 35%|██████████████▋                           | 35/100 [00:13<00:26,  2.46it/s]Clipping input data to the valid range for imshow with RGB data ([0..1] for floats or [0..255] for integers).\n",
      " 36%|███████████████                           | 36/100 [00:13<00:25,  2.54it/s]Clipping input data to the valid range for imshow with RGB data ([0..1] for floats or [0..255] for integers).\n",
      " 37%|███████████████▌                          | 37/100 [00:14<00:23,  2.63it/s]Clipping input data to the valid range for imshow with RGB data ([0..1] for floats or [0..255] for integers).\n",
      " 38%|███████████████▉                          | 38/100 [00:14<00:23,  2.66it/s]Clipping input data to the valid range for imshow with RGB data ([0..1] for floats or [0..255] for integers).\n",
      " 41%|█████████████████▏                        | 41/100 [00:15<00:21,  2.73it/s]Clipping input data to the valid range for imshow with RGB data ([0..1] for floats or [0..255] for integers).\n",
      " 42%|█████████████████▋                        | 42/100 [00:16<00:21,  2.72it/s]Clipping input data to the valid range for imshow with RGB data ([0..1] for floats or [0..255] for integers).\n",
      " 43%|██████████████████                        | 43/100 [00:16<00:23,  2.46it/s]Clipping input data to the valid range for imshow with RGB data ([0..1] for floats or [0..255] for integers).\n",
      " 44%|██████████████████▍                       | 44/100 [00:16<00:22,  2.53it/s]Clipping input data to the valid range for imshow with RGB data ([0..1] for floats or [0..255] for integers).\n",
      " 45%|██████████████████▉                       | 45/100 [00:17<00:21,  2.56it/s]Clipping input data to the valid range for imshow with RGB data ([0..1] for floats or [0..255] for integers).\n",
      " 46%|███████████████████▎                      | 46/100 [00:17<00:20,  2.59it/s]Clipping input data to the valid range for imshow with RGB data ([0..1] for floats or [0..255] for integers).\n",
      " 49%|████████████████████▌                     | 49/100 [00:18<00:18,  2.71it/s]Clipping input data to the valid range for imshow with RGB data ([0..1] for floats or [0..255] for integers).\n",
      " 51%|█████████████████████▍                    | 51/100 [00:19<00:19,  2.57it/s]Clipping input data to the valid range for imshow with RGB data ([0..1] for floats or [0..255] for integers).\n",
      " 54%|██████████████████████▋                   | 54/100 [00:20<00:17,  2.66it/s]Clipping input data to the valid range for imshow with RGB data ([0..1] for floats or [0..255] for integers).\n",
      " 55%|███████████████████████                   | 55/100 [00:21<00:16,  2.67it/s]Clipping input data to the valid range for imshow with RGB data ([0..1] for floats or [0..255] for integers).\n",
      " 56%|███████████████████████▌                  | 56/100 [00:21<00:16,  2.66it/s]Clipping input data to the valid range for imshow with RGB data ([0..1] for floats or [0..255] for integers).\n",
      " 57%|███████████████████████▉                  | 57/100 [00:21<00:16,  2.68it/s]Clipping input data to the valid range for imshow with RGB data ([0..1] for floats or [0..255] for integers).\n",
      " 58%|████████████████████████▎                 | 58/100 [00:22<00:16,  2.62it/s]Clipping input data to the valid range for imshow with RGB data ([0..1] for floats or [0..255] for integers).\n",
      " 59%|████████████████████████▊                 | 59/100 [00:22<00:16,  2.48it/s]Clipping input data to the valid range for imshow with RGB data ([0..1] for floats or [0..255] for integers).\n",
      " 60%|█████████████████████████▏                | 60/100 [00:22<00:15,  2.55it/s]Clipping input data to the valid range for imshow with RGB data ([0..1] for floats or [0..255] for integers).\n",
      " 61%|█████████████████████████▌                | 61/100 [00:23<00:15,  2.59it/s]Clipping input data to the valid range for imshow with RGB data ([0..1] for floats or [0..255] for integers).\n",
      " 63%|██████████████████████████▍               | 63/100 [00:24<00:14,  2.60it/s]Clipping input data to the valid range for imshow with RGB data ([0..1] for floats or [0..255] for integers).\n",
      " 65%|███████████████████████████▎              | 65/100 [00:24<00:12,  2.71it/s]Clipping input data to the valid range for imshow with RGB data ([0..1] for floats or [0..255] for integers).\n",
      " 66%|███████████████████████████▋              | 66/100 [00:25<00:12,  2.71it/s]Clipping input data to the valid range for imshow with RGB data ([0..1] for floats or [0..255] for integers).\n",
      " 68%|████████████████████████████▌             | 68/100 [00:25<00:11,  2.71it/s]Clipping input data to the valid range for imshow with RGB data ([0..1] for floats or [0..255] for integers).\n",
      " 69%|████████████████████████████▉             | 69/100 [00:26<00:11,  2.67it/s]Clipping input data to the valid range for imshow with RGB data ([0..1] for floats or [0..255] for integers).\n",
      " 70%|█████████████████████████████▍            | 70/100 [00:26<00:11,  2.60it/s]Clipping input data to the valid range for imshow with RGB data ([0..1] for floats or [0..255] for integers).\n",
      " 71%|█████████████████████████████▊            | 71/100 [00:27<00:11,  2.60it/s]Clipping input data to the valid range for imshow with RGB data ([0..1] for floats or [0..255] for integers).\n",
      " 72%|██████████████████████████████▏           | 72/100 [00:27<00:10,  2.61it/s]Clipping input data to the valid range for imshow with RGB data ([0..1] for floats or [0..255] for integers).\n",
      " 73%|██████████████████████████████▋           | 73/100 [00:27<00:10,  2.66it/s]Clipping input data to the valid range for imshow with RGB data ([0..1] for floats or [0..255] for integers).\n",
      " 74%|███████████████████████████████           | 74/100 [00:28<00:09,  2.72it/s]Clipping input data to the valid range for imshow with RGB data ([0..1] for floats or [0..255] for integers).\n",
      " 75%|███████████████████████████████▌          | 75/100 [00:28<00:09,  2.55it/s]Clipping input data to the valid range for imshow with RGB data ([0..1] for floats or [0..255] for integers).\n",
      " 77%|████████████████████████████████▎         | 77/100 [00:29<00:08,  2.69it/s]Clipping input data to the valid range for imshow with RGB data ([0..1] for floats or [0..255] for integers).\n",
      " 78%|████████████████████████████████▊         | 78/100 [00:29<00:08,  2.71it/s]Clipping input data to the valid range for imshow with RGB data ([0..1] for floats or [0..255] for integers).\n",
      " 79%|█████████████████████████████████▏        | 79/100 [00:30<00:07,  2.70it/s]Clipping input data to the valid range for imshow with RGB data ([0..1] for floats or [0..255] for integers).\n",
      " 80%|█████████████████████████████████▌        | 80/100 [00:30<00:07,  2.65it/s]Clipping input data to the valid range for imshow with RGB data ([0..1] for floats or [0..255] for integers).\n",
      " 83%|██████████████████████████████████▊       | 83/100 [00:31<00:06,  2.56it/s]Clipping input data to the valid range for imshow with RGB data ([0..1] for floats or [0..255] for integers).\n",
      " 84%|███████████████████████████████████▎      | 84/100 [00:32<00:06,  2.58it/s]Clipping input data to the valid range for imshow with RGB data ([0..1] for floats or [0..255] for integers).\n",
      " 85%|███████████████████████████████████▋      | 85/100 [00:32<00:05,  2.68it/s]Clipping input data to the valid range for imshow with RGB data ([0..1] for floats or [0..255] for integers).\n",
      " 86%|████████████████████████████████████      | 86/100 [00:32<00:05,  2.68it/s]Clipping input data to the valid range for imshow with RGB data ([0..1] for floats or [0..255] for integers).\n",
      " 87%|████████████████████████████████████▌     | 87/100 [00:33<00:04,  2.70it/s]Clipping input data to the valid range for imshow with RGB data ([0..1] for floats or [0..255] for integers).\n",
      " 89%|█████████████████████████████████████▍    | 89/100 [00:33<00:04,  2.71it/s]Clipping input data to the valid range for imshow with RGB data ([0..1] for floats or [0..255] for integers).\n",
      " 90%|█████████████████████████████████████▊    | 90/100 [00:34<00:03,  2.73it/s]Clipping input data to the valid range for imshow with RGB data ([0..1] for floats or [0..255] for integers).\n",
      " 91%|██████████████████████████████████████▏   | 91/100 [00:34<00:03,  2.55it/s]Clipping input data to the valid range for imshow with RGB data ([0..1] for floats or [0..255] for integers).\n",
      " 92%|██████████████████████████████████████▋   | 92/100 [00:35<00:03,  2.59it/s]Clipping input data to the valid range for imshow with RGB data ([0..1] for floats or [0..255] for integers).\n",
      " 93%|███████████████████████████████████████   | 93/100 [00:35<00:02,  2.60it/s]Clipping input data to the valid range for imshow with RGB data ([0..1] for floats or [0..255] for integers).\n",
      " 94%|███████████████████████████████████████▍  | 94/100 [00:35<00:02,  2.60it/s]Clipping input data to the valid range for imshow with RGB data ([0..1] for floats or [0..255] for integers).\n",
      " 95%|███████████████████████████████████████▉  | 95/100 [00:36<00:01,  2.63it/s]Clipping input data to the valid range for imshow with RGB data ([0..1] for floats or [0..255] for integers).\n",
      " 97%|████████████████████████████████████████▋ | 97/100 [00:36<00:01,  2.64it/s]Clipping input data to the valid range for imshow with RGB data ([0..1] for floats or [0..255] for integers).\n",
      " 98%|█████████████████████████████████████████▏| 98/100 [00:37<00:00,  2.70it/s]Clipping input data to the valid range for imshow with RGB data ([0..1] for floats or [0..255] for integers).\n",
      " 99%|█████████████████████████████████████████▌| 99/100 [00:37<00:00,  2.55it/s]Clipping input data to the valid range for imshow with RGB data ([0..1] for floats or [0..255] for integers).\n",
      "100%|█████████████████████████████████████████| 100/100 [00:38<00:00,  2.62it/s]\n"
     ]
    }
   ],
   "source": [
    "%matplotlib inline \n",
    "!python testsa.py --batch-size 1  --img_size 512 --weight 'PTSR31AUG+bicubic+s5+newdiffloss2+nonorm' --gpuid 1"
   ]
  },
  {
   "cell_type": "code",
   "execution_count": null,
   "id": "7d99b70c-f0f6-4408-85cd-868ba8389e90",
   "metadata": {},
   "outputs": [],
   "source": [
    "import matplotlib.pyplot as plt\n",
    "import numpy as np\n",
    "%matplotlib inline  \n",
    "# Fixing random state for reproducibility\n",
    "\n",
    "\n",
    "x=np.random.random((100, 100))\n",
    "print(x.shape)\n",
    "plt.subplot(121)\n",
    "plt.imshow(x)\n",
    "plt.subplot(122)\n",
    "plt.imshow(np.random.random((100, 100)))\n",
    "\n",
    "plt.subplots_adjust(bottom=0.0, right=.9, top=1)\n",
    "cax = plt.axes([0.9, 0.1, 0.08, 0.8])\n",
    "plt.colorbar(cax=cax)\n",
    "\n",
    "plt.show()\n"
   ]
  },
  {
   "cell_type": "code",
   "execution_count": 135,
   "id": "6f7ee34a-496d-42b7-aa4f-c5c1b7f54152",
   "metadata": {},
   "outputs": [
    {
     "name": "stdout",
     "output_type": "stream",
     "text": [
      "26.670868364467488 0.6586561195775343\n"
     ]
    }
   ],
   "source": [
    "import cv2\n",
    "from skimage.metrics import structural_similarity as compare_ssim\n",
    "# open method used to open different extension image file\n",
    "IM1=cv2.resize(cv2.imread('hr.png'),(280,280))\n",
    "IM2=cv2.resize(cv2.imread('sr.png'),(280,280))\n",
    "print(cv2.PSNR(IM2, IM1),compare_ssim(IM2, IM1,multichannel=True))"
   ]
  },
  {
   "cell_type": "code",
   "execution_count": null,
   "id": "0896b862-87b1-4e42-9703-4be34eeeecfa",
   "metadata": {},
   "outputs": [],
   "source": []
  },
  {
   "cell_type": "code",
   "execution_count": null,
   "id": "3381df9d-002a-4818-a1c8-cac21cbadb83",
   "metadata": {},
   "outputs": [],
   "source": []
  },
  {
   "cell_type": "code",
   "execution_count": null,
   "id": "74121175-0703-4b51-bec4-562dbd3524d4",
   "metadata": {},
   "outputs": [],
   "source": []
  },
  {
   "cell_type": "code",
   "execution_count": null,
   "id": "f013c8ec-8c57-448e-bc4a-d177a970a84d",
   "metadata": {},
   "outputs": [],
   "source": []
  }
 ],
 "metadata": {
  "kernelspec": {
   "display_name": "Python 3",
   "language": "python",
   "name": "python3"
  },
  "language_info": {
   "codemirror_mode": {
    "name": "ipython",
    "version": 3
   },
   "file_extension": ".py",
   "mimetype": "text/x-python",
   "name": "python",
   "nbconvert_exporter": "python",
   "pygments_lexer": "ipython3",
   "version": "3.6.13"
  }
 },
 "nbformat": 4,
 "nbformat_minor": 5
}
